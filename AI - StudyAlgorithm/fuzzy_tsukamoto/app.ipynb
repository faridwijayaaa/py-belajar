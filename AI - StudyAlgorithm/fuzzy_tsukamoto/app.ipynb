{
 "cells": [
  {
   "cell_type": "markdown",
   "metadata": {},
   "source": [
    "SOAL :\n",
    "\n",
    "Suatu perusahaan minuman kaleng akan memproduksi minuman jenis Ekstrak. Dari data 1 bulan terakhir, permintaan terbesar mencapai 6000 kemasan/hari, dan permintaan terkecil mencapai 1500 kemasan/hari. Persediaan barang digudang terbanyak mencapai 850 kemasan/hari, dan terkecil pernah mencapai 100 kemasan/hari. Dengan segala keterbatasannya perusahaan sampai saat ini baru mampu memproduksi barang maksimum 8000 kemasan/hari, untuk efisiensi mesin dan SDm tiap hari diharapkan perusahaan memproduksi paling tidak 3000 kemasan. Berapa kemasan minuman jenis Ekstrak yang harus diprosuksi, jika jumlah permintaan sebanyak 7000 kemasan, dan persediaan di gudang masih 400 kemasan ?"
   ]
  },
  {
   "cell_type": "code",
   "execution_count": 2,
   "metadata": {},
   "outputs": [],
   "source": [
    "def turun(x,a,b):\n",
    "    if(x <= a):\n",
    "        nilai = 1\n",
    "    elif(x > a and x < b):\n",
    "        nilai = (b - x) / (b - a)\n",
    "    elif(x >= b):\n",
    "        nilai = 0\n",
    "\n",
    "    return nilai"
   ]
  },
  {
   "cell_type": "code",
   "execution_count": 3,
   "metadata": {},
   "outputs": [],
   "source": [
    "def naik(x,a,b):\n",
    "    if (x >= b):\n",
    "        nilai = 1\n",
    "    elif (x > a and x < b):\n",
    "        nilai = (x - a) / (b - a)\n",
    "    elif (x <= a):\n",
    "        nilai = 0\n",
    "        \n",
    "    return nilai"
   ]
  },
  {
   "cell_type": "code",
   "execution_count": 4,
   "metadata": {},
   "outputs": [],
   "source": [
    "def agregasi_turun(b, a, a_predikat):\n",
    "    nilai = b - (a_predikat * (b - a))\n",
    "    return nilai"
   ]
  },
  {
   "cell_type": "code",
   "execution_count": 5,
   "metadata": {},
   "outputs": [],
   "source": [
    "\n",
    "def agregasi_naik(b, a, a_predikat):\n",
    "    nilai = a_predikat * (b - a) + a\n",
    "    return nilai"
   ]
  },
  {
   "cell_type": "code",
   "execution_count": 6,
   "metadata": {},
   "outputs": [],
   "source": [
    "nama_var = ['permintaan', 'persediaan', 'produksi'] # nama variabel \n",
    "\n",
    "# nilai tiap himpunan\n",
    "variabel = {'permintaan_banyak': 6000, 'permintaan_sedikit': 1500, 'persediaan_banyak': 850, 'persediaan_sedikit': 100, 'produksi_banyak': 8000, 'produksi_sedikit': 3000} \n",
    "\n",
    "# soal yang ditanyakan atau dicari\n",
    "soal = {'permintaan': 7000, 'persediaan': 400}"
   ]
  },
  {
   "cell_type": "code",
   "execution_count": 10,
   "metadata": {},
   "outputs": [
    {
     "name": "stdout",
     "output_type": "stream",
     "text": [
      "{'permintaan_banyak': 1, 'permintaan_sedikit': 0, 'persediaan_banyak': 0.4, 'persediaan_sedikit': 0.6}\n"
     ]
    }
   ],
   "source": [
    "# INFEREFENSI\n",
    "\n",
    "hasil = dict()\n",
    "\n",
    "for i in soal:\n",
    "    up = naik(soal[i],variabel[i+\"_sedikit\"],variabel[i+\"_banyak\"])\n",
    "    down = turun(soal[i],variabel[i+\"_sedikit\"],variabel[i+\"_banyak\"])\n",
    "    hasil.update({i+\"_banyak\": up})\n",
    "    hasil.update({i+\"_sedikit\": down})\n",
    "    \n",
    "print(hasil)"
   ]
  },
  {
   "cell_type": "code",
   "execution_count": 11,
   "metadata": {},
   "outputs": [],
   "source": [
    "# AGREGASI\n",
    "\n",
    "rules = [['permintaan_banyak', 'persediaan_banyak', 'bertambah'],\n",
    "         ['permintaan_banyak', 'persediaan_sedikit', 'bertambah'],\n",
    "         ['permintaan_sedikit', 'persediaan_banyak', 'berkurang'],\n",
    "         ['permintaan_sedikit', 'persediaan_banyak', 'berkurang']]\n",
    "\n",
    "a_predikat  = []\n",
    "z = []\n",
    "\n",
    "for i in (rules):\n",
    "    # INSERSECTION (irisan / AND)\n",
    "    a = min(hasil[i[0]], hasil[i[1]])\n",
    "    a_predikat.append(a)\n",
    "    \n",
    "    if (i[2] == \"bertambah\"):\n",
    "        tmp = agregasi_naik(variabel['produksi_banyak'],variabel['produksi_sedikit'], a)\n",
    "    elif (i[2] == \"berkurang\"):\n",
    "        tmp = agregasi_turun(variabel['produksi_banyak'], variabel['produksi_sedikit'], a)\n",
    "    \n",
    "    z.append(tmp)"
   ]
  },
  {
   "cell_type": "code",
   "execution_count": 12,
   "metadata": {},
   "outputs": [
    {
     "name": "stdout",
     "output_type": "stream",
     "text": [
      "[0.4, 0.6, 0, 0]\n",
      "[5000.0, 6000.0, 8000, 8000]\n"
     ]
    }
   ],
   "source": [
    "print(a_predikat)\n",
    "print(z)"
   ]
  },
  {
   "cell_type": "code",
   "execution_count": 13,
   "metadata": {},
   "outputs": [
    {
     "name": "stdout",
     "output_type": "stream",
     "text": [
      "Jadi, barang yang perlu diproduksi adalah  5600\n"
     ]
    }
   ],
   "source": [
    "#DEFUZIFIKASI\n",
    "\n",
    "dz = 0\n",
    "\n",
    "for i in range (len(a_predikat)):\n",
    "    dz += a_predikat[i] * z[i]\n",
    "\n",
    "hasil = (dz/sum(a_predikat))\n",
    "\n",
    "print(\"Jadi, barang yang perlu diproduksi adalah \" , int(hasil))\n"
   ]
  }
 ],
 "metadata": {
  "interpreter": {
   "hash": "916dbcbb3f70747c44a77c7bcd40155683ae19c65e1c03b4aa3499c5328201f1"
  },
  "kernelspec": {
   "display_name": "Python 3.8.10 64-bit",
   "language": "python",
   "name": "python3"
  },
  "language_info": {
   "codemirror_mode": {
    "name": "ipython",
    "version": 3
   },
   "file_extension": ".py",
   "mimetype": "text/x-python",
   "name": "python",
   "nbconvert_exporter": "python",
   "pygments_lexer": "ipython3",
   "version": "3.8.10"
  },
  "orig_nbformat": 4
 },
 "nbformat": 4,
 "nbformat_minor": 2
}
